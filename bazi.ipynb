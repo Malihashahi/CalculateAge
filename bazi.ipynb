{
 "cells": [
  {
   "cell_type": "code",
   "execution_count": 1,
   "metadata": {},
   "outputs": [
    {
     "name": "stdout",
     "output_type": "stream",
     "text": [
      "YOU: ( 0 ) sang      COM:( 0 ) sang\n",
      "YOU: ( 0 ) kaqaz      COM:( 1 ) qeychi\n",
      "YOU: ( 1 ) sang      COM:( 1 ) qeychi\n",
      "YOU: ( 2 ) sang      COM:( 1 ) qeychi\n",
      "YOU: ( 2 ) kaqaz      COM:( 2 ) qeychi\n",
      "YOU: ( 3 ) sang      COM:( 2 ) qeychi\n",
      "\n",
      "YOU WIN!\n",
      "YOU:  3\n",
      "COM:  2\n"
     ]
    }
   ],
   "source": [
    "import random\n",
    "\n",
    "bazi=['sang','kaqaz','qeychi']\n",
    " \n",
    "computer=''\n",
    "\n",
    "you_point=0\n",
    "computer_point=0 \n",
    "\n",
    "shart_bazi=True\n",
    "\n",
    "\n",
    "while(shart_bazi):\n",
    "\n",
    "\n",
    "\n",
    "    you = input(\"Entekhab kon (sang,kaqaz,qeychi): \")\n",
    "\n",
    "    if you==\"0\":\n",
    "        shart_bazi=False\n",
    "\n",
    "\n",
    "    rand=random.randint(0,2)\n",
    "    computer=bazi[rand]\n",
    "\n",
    "    if you=='sang' and computer=='kaqaz':\n",
    "        computer_point=computer_point+1\n",
    "\n",
    "    if you=='qeychi' and computer=='kaqaz':\n",
    "        you_point=you_point+1\n",
    "\n",
    "\n",
    "    if you=='sang' and computer=='qeychi':\n",
    "        you_point=you_point+1\n",
    "\n",
    "    if you=='kaqaz' and computer=='qeychi':\n",
    "        computer_point=computer_point+1\n",
    "\n",
    "\n",
    "    if you=='qeychi' and computer=='sang':\n",
    "        computer_point=computer_point+1\n",
    "\n",
    "    if you=='kaqaz' and computer=='sang':\n",
    "        you_point=you_point+1\n",
    "\n",
    "\n",
    "\n",
    "    print(\"YOU: (\", you_point  ,\")\",   you,\"     COM:(\", computer_point  ,\")\",computer)\n",
    "\n",
    "    if you_point>=3 or computer_point>=3:\n",
    "        shart_bazi=False\n",
    "\n",
    "\n",
    "\n",
    "\n",
    "if you_point>computer_point:\n",
    "    print(\"\")\n",
    "    print(\"YOU WIN!\")\n",
    "else:\n",
    "    print(\"\")\n",
    "    print(\"YOU LOSE :(\")\n",
    "\n",
    "print(\"YOU: \",you_point)\n",
    "print(\"COM: \",computer_point)\n",
    "\n"
   ]
  }
 ],
 "metadata": {
  "kernelspec": {
   "display_name": "Python 3.8.8 64-bit",
   "language": "python",
   "name": "python3"
  },
  "language_info": {
   "codemirror_mode": {
    "name": "ipython",
    "version": 3
   },
   "file_extension": ".py",
   "mimetype": "text/x-python",
   "name": "python",
   "nbconvert_exporter": "python",
   "pygments_lexer": "ipython3",
   "version": "3.8.8"
  },
  "orig_nbformat": 4,
  "vscode": {
   "interpreter": {
    "hash": "570feb405e2e27c949193ac68f46852414290d515b0ba6e5d90d076ed2284471"
   }
  }
 },
 "nbformat": 4,
 "nbformat_minor": 2
}
